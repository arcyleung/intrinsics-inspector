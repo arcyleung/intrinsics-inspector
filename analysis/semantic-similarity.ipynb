{
 "cells": [
  {
   "cell_type": "code",
   "execution_count": null,
   "metadata": {},
   "outputs": [],
   "source": [
    "from sentence_transformers import SentenceTransformer, util\n",
    "import numpy as np\n",
    "import pandas as pd\n",
    "import json\n",
    "\n",
    "# load intel\n",
    "intel_list = json.load(open(\"../public/intel_intrinsics.json\", mode='r'))\n",
    "\n",
    "# load arm\n",
    "arm_list = json.load(open(\"../public/arm_intrinsics.json\", mode='r'))\n",
    "\n",
    "\n",
    "\n",
    "model = SentenceTransformer('stsb-roberta-large')\n",
    "s1 = \"I like eggs\"\n",
    "s2 = \"I like cars\"\n",
    "s3 = \"The sky is blue\"\n",
    "\n",
    "\n",
    "e1 = model.encode(s1, convert_to_tensor=True)\n",
    "e2 = model.encode(s2, convert_to_tensor=True)\n",
    "e3 = model.encode(s3, convert_to_tensor=True)\n",
    "\n",
    "c12 = util.pytorch_cos_sim(e1, e2)\n",
    "c23 = util.pytorch_cos_sim(e2, e3)\n",
    "\n",
    "print(c12)\n",
    "print(c23)\n"
   ]
  }
 ],
 "metadata": {
  "language_info": {
   "name": "python"
  }
 },
 "nbformat": 4,
 "nbformat_minor": 2
}
